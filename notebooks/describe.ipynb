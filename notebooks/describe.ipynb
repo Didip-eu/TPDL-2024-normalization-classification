{
 "cells": [
  {
   "cell_type": "code",
   "execution_count": 1,
   "metadata": {},
   "outputs": [],
   "source": [
    "import pandas as pd\n",
    "import numpy as np\n",
    "import difflib\n",
    "import random"
   ]
  },
  {
   "cell_type": "code",
   "execution_count": 2,
   "metadata": {},
   "outputs": [],
   "source": [
    "df = pd.read_json(\"../data/df.json\")"
   ]
  },
  {
   "cell_type": "markdown",
   "metadata": {},
   "source": [
    "## Tokens"
   ]
  },
  {
   "cell_type": "code",
   "execution_count": 3,
   "metadata": {},
   "outputs": [
    {
     "name": "stdout",
     "output_type": "stream",
     "text": [
      "2808918\n"
     ]
    }
   ],
   "source": [
    "df['token_count'] = df['text'].apply(lambda x: len(x.split()))\n",
    "total_token_count = df['token_count'].sum()\n",
    "print(total_token_count)"
   ]
  },
  {
   "cell_type": "markdown",
   "metadata": {},
   "source": [
    "# Class imbalance"
   ]
  },
  {
   "cell_type": "markdown",
   "metadata": {},
   "source": [
    "## Dating"
   ]
  },
  {
   "cell_type": "code",
   "execution_count": 4,
   "metadata": {},
   "outputs": [
    {
     "name": "stdout",
     "output_type": "stream",
     "text": [
      "Class counts:\n",
      "decade\n",
      "1370    965\n",
      "1350    897\n",
      "1340    893\n",
      "1360    854\n",
      "1330    716\n",
      "1380    685\n",
      "1320    595\n",
      "1310    533\n",
      "1300    457\n",
      "1290    302\n",
      "1390    252\n",
      "1280     97\n",
      "1270     25\n",
      "1260      6\n",
      "1250      4\n",
      "1220      3\n",
      "1230      1\n",
      "1130      1\n",
      "Name: count, dtype: int64\n",
      "\n",
      "Most frequent class count: 965\n",
      "Least frequent class count: 1\n",
      "Imbalance ratio: 965.00\n",
      "Total number of samples: 7286\n",
      "Total number of classes: 18\n",
      "Gini coefficient: 0.90\n",
      "Entropy: 3.46\n"
     ]
    }
   ],
   "source": [
    "class_counts = df['decade'].value_counts()\n",
    "\n",
    "most_frequent_class = class_counts.max()\n",
    "least_frequent_class = class_counts.min()\n",
    "imbalance_ratio = most_frequent_class / least_frequent_class\n",
    "\n",
    "total_samples = class_counts.sum()\n",
    "num_classes = class_counts.count()\n",
    "\n",
    "print(f\"Class counts:\\n{class_counts}\\n\")\n",
    "print(f\"Most frequent class count: {most_frequent_class}\")\n",
    "print(f\"Least frequent class count: {least_frequent_class}\")\n",
    "print(f\"Imbalance ratio: {imbalance_ratio:.2f}\")\n",
    "print(f\"Total number of samples: {total_samples}\")\n",
    "print(f\"Total number of classes: {num_classes}\")\n",
    "\n",
    "gini_coefficient = 1 - sum((class_counts / total_samples) ** 2)\n",
    "print(f\"Gini coefficient: {gini_coefficient:.2f}\")\n",
    "\n",
    "class_probabilities = class_counts / total_samples\n",
    "entropy = -sum(class_probabilities * np.log2(class_probabilities))\n",
    "print(f\"Entropy: {entropy:.2f}\")"
   ]
  },
  {
   "cell_type": "code",
   "execution_count": 5,
   "metadata": {},
   "outputs": [
    {
     "name": "stdout",
     "output_type": "stream",
     "text": [
      "Median class count: 379.5\n",
      "IQR: 697.5\n"
     ]
    }
   ],
   "source": [
    "median_count = class_counts.median()\n",
    "q75 = class_counts.quantile(0.75)\n",
    "q25 = class_counts.quantile(0.25)\n",
    "iqr = q75 - q25\n",
    "\n",
    "print(f\"Median class count: {median_count}\")\n",
    "print(f\"IQR: {iqr}\")"
   ]
  },
  {
   "cell_type": "code",
   "execution_count": 6,
   "metadata": {},
   "outputs": [
    {
     "data": {
      "text/plain": [
       "decade\n",
       "1370    965\n",
       "1350    897\n",
       "1340    893\n",
       "1360    854\n",
       "1330    716\n",
       "1380    685\n",
       "1320    595\n",
       "1310    533\n",
       "1300    457\n",
       "1290    302\n",
       "1390    252\n",
       "1280     97\n",
       "1270     25\n",
       "Name: count, dtype: int64"
      ]
     },
     "execution_count": 6,
     "metadata": {},
     "output_type": "execute_result"
    }
   ],
   "source": [
    "df.groupby('decade').filter(lambda x: len(x) >= 10).decade.value_counts()"
   ]
  },
  {
   "cell_type": "markdown",
   "metadata": {},
   "source": [
    "## Locating"
   ]
  },
  {
   "cell_type": "code",
   "execution_count": 7,
   "metadata": {},
   "outputs": [
    {
     "name": "stdout",
     "output_type": "stream",
     "text": [
      "Class counts:\n",
      "supercuration_name\n",
      "COLLECTIONS    4129\n",
      "AT-OOeLA        356\n",
      "AT-StiASF       321\n",
      "CH-StiASG       247\n",
      "AT-StiAH        238\n",
      "DE-BayHStA      233\n",
      "AT-StiAScho     208\n",
      "AT-StiAHe       192\n",
      "AT-HHStA        177\n",
      "AT-StiASei      151\n",
      "AT-StiAL        150\n",
      "CH-StaASG       150\n",
      "AT-StiAW        131\n",
      "AT-StiAR        120\n",
      "AT-StiAKr       102\n",
      "AT-StiAA         94\n",
      "AT-StiAG         90\n",
      "AT-StiASch       75\n",
      "AT-StaABdW       56\n",
      "AT-StiAK         36\n",
      "DE-AKR           12\n",
      "SI-PAM            6\n",
      "AT-StiAMh         6\n",
      "DE-AEK            3\n",
      "AT-StiAGe         2\n",
      "AT-StiAM          1\n",
      "Name: count, dtype: int64\n",
      "\n",
      "Most frequent class count: 4129\n",
      "Least frequent class count: 1\n",
      "Imbalance ratio: 4129.00\n",
      "Total number of samples: 7286\n",
      "Total number of classes: 26\n",
      "Gini coefficient: 0.67\n",
      "Entropy: 2.77\n"
     ]
    }
   ],
   "source": [
    "class_counts = df['supercuration_name'].value_counts()\n",
    "\n",
    "most_frequent_class = class_counts.max()\n",
    "least_frequent_class = class_counts.min()\n",
    "imbalance_ratio = most_frequent_class / least_frequent_class\n",
    "\n",
    "total_samples = class_counts.sum()\n",
    "num_classes = class_counts.count()\n",
    "\n",
    "print(f\"Class counts:\\n{class_counts}\\n\")\n",
    "print(f\"Most frequent class count: {most_frequent_class}\")\n",
    "print(f\"Least frequent class count: {least_frequent_class}\")\n",
    "print(f\"Imbalance ratio: {imbalance_ratio:.2f}\")\n",
    "print(f\"Total number of samples: {total_samples}\")\n",
    "print(f\"Total number of classes: {num_classes}\")\n",
    "\n",
    "gini_coefficient = 1 - sum((class_counts / total_samples) ** 2)\n",
    "print(f\"Gini coefficient: {gini_coefficient:.2f}\")\n",
    "\n",
    "class_probabilities = class_counts / total_samples\n",
    "entropy = -sum(class_probabilities * np.log2(class_probabilities))\n",
    "print(f\"Entropy: {entropy:.2f}\")"
   ]
  },
  {
   "cell_type": "code",
   "execution_count": 8,
   "metadata": {},
   "outputs": [
    {
     "name": "stdout",
     "output_type": "stream",
     "text": [
      "Median class count: 125.5\n",
      "IQR: 163.0\n"
     ]
    }
   ],
   "source": [
    "median_count = class_counts.median()\n",
    "q75 = class_counts.quantile(0.75)\n",
    "q25 = class_counts.quantile(0.25)\n",
    "iqr = q75 - q25\n",
    "\n",
    "print(f\"Median class count: {median_count}\")\n",
    "print(f\"IQR: {iqr}\")"
   ]
  },
  {
   "cell_type": "code",
   "execution_count": 9,
   "metadata": {},
   "outputs": [
    {
     "data": {
      "text/plain": [
       "supercuration_name\n",
       "COLLECTIONS    4129\n",
       "AT-OOeLA        356\n",
       "AT-StiASF       321\n",
       "CH-StiASG       247\n",
       "AT-StiAH        238\n",
       "DE-BayHStA      233\n",
       "AT-StiAScho     208\n",
       "AT-StiAHe       192\n",
       "AT-HHStA        177\n",
       "AT-StiASei      151\n",
       "AT-StiAL        150\n",
       "CH-StaASG       150\n",
       "AT-StiAW        131\n",
       "AT-StiAR        120\n",
       "AT-StiAKr       102\n",
       "AT-StiAA         94\n",
       "AT-StiAG         90\n",
       "AT-StiASch       75\n",
       "AT-StaABdW       56\n",
       "AT-StiAK         36\n",
       "DE-AKR           12\n",
       "Name: count, dtype: int64"
      ]
     },
     "execution_count": 9,
     "metadata": {},
     "output_type": "execute_result"
    }
   ],
   "source": [
    "df.groupby('supercuration_name').filter(lambda x: len(x) >= 10).supercuration_name.value_counts()"
   ]
  },
  {
   "cell_type": "markdown",
   "metadata": {},
   "source": [
    "# Deltas"
   ]
  },
  {
   "cell_type": "code",
   "execution_count": 10,
   "metadata": {},
   "outputs": [
    {
     "name": "stdout",
     "output_type": "stream",
     "text": [
      "7286\n",
      "1224\n"
     ]
    }
   ],
   "source": [
    "df[\"same_text\"] = df[\"text\"] == df[\"text_normalized\"]\n",
    "print(len(df))\n",
    "print(len(df[df[\"same_text\"] == True]))"
   ]
  },
  {
   "cell_type": "code",
   "execution_count": 11,
   "metadata": {},
   "outputs": [],
   "source": [
    "def get_deltas(original, normalized):\n",
    "    s = difflib.SequenceMatcher(None, original, normalized)\n",
    "    differences = []\n",
    "    for tag, i1, i2, j1, j2 in s.get_opcodes():\n",
    "        differences.append((tag, original[i1:i2], normalized[j1:j2]))\n",
    "    return differences\n",
    "\n",
    "df[\"deltas\"] = df.apply(lambda row: get_deltas(row[\"text\"], row[\"text_normalized\"]), axis=1)"
   ]
  },
  {
   "cell_type": "code",
   "execution_count": 12,
   "metadata": {},
   "outputs": [
    {
     "data": {
      "text/plain": [
       "{'replace': 68112, 'delete': 15217, 'insert': 115, 'equal': 90587}"
      ]
     },
     "execution_count": 12,
     "metadata": {},
     "output_type": "execute_result"
    }
   ],
   "source": [
    "differences_dict = {\"replace\": 0, \"delete\": 0, \"insert\": 0, \"equal\": 0}\n",
    "\n",
    "for differences in df[\"deltas\"]:\n",
    "    for diff in differences:\n",
    "        tag = diff[0]\n",
    "        \n",
    "        differences_dict[tag] += 1\n",
    "\n",
    "differences_dict"
   ]
  },
  {
   "cell_type": "code",
   "execution_count": 13,
   "metadata": {},
   "outputs": [
    {
     "name": "stdout",
     "output_type": "stream",
     "text": [
      "Random diffs for type 'replace':\n",
      "('replace', 'ü', 'u')\n",
      "('replace', 'úr vns vnd vnserv´ geswistergide, daz ietz genande gůt zevertegende, alle die wile wir vnd vnserv´ geswistergide ze vnsern tagen nicht sint comen, vnd daz wir daz selbe tů', 'ur vns vnd vnserv geswistergide, daz ietz genande gut zevertegende, alle die wile wir vnd vnserv geswistergide ze vnsern tagen nicht sint comen, vnd daz wir daz selbe tu')\n",
      "('replace', 'ú', 'u')\n",
      "('replace', 'ů', 'u')\n",
      "('replace', 'ů', 'u')\n",
      "('replace', 'æut mæ', 'aeut mae')\n",
      "('replace', '|| wir angesehen haben die núclichen willigen dienst, so vns vnser lieber ohan der wolerboren ||', 'wir angesehen haben die nuclichen willigen dienst, so vns vnser lieber ohan der wolerboren')\n",
      "('replace', 'ů', 'u')\n",
      "('replace', '´ns als komenlich vnd fůgklich ist, mit v´', 'ns als komenlich vnd fugklich ist, mit v')\n",
      "('replace', 'ů', 'u')\n",
      "Random diffs for type 'delete':\n",
      "('delete', '(ich)', '')\n",
      "('delete', ' ', '')\n",
      "('delete', '´', '')\n",
      "('delete', '|| ', '')\n",
      "('delete', '||', '')\n",
      "('delete', '/', '')\n",
      "('delete', '´', '')\n",
      "('delete', '‚', '')\n",
      "('delete', '´', '')\n",
      "('delete', '|| ', '')\n",
      "Random diffs for type 'insert':\n",
      "('insert', '', 'Od, Alber der Stainer und ander frum leut vil. Diser brief ist gegeben daz Engelcelle in den chloster, da main rait von Christes purt tausent dreuhundert und vier iar an sant Paules becherung tag in den ')\n",
      "('insert', '', ' von Toggenburch mins eriches des vorgenemmeten bruder vnd unser ohaim her Vlrich von Regenspurch, die schieden vns, alse hie gescriben ist, mit willen')\n",
      "('insert', '', 'ge vnlu')\n",
      "('insert', '', 'rt zalt druzehenhu')\n",
      "('insert', '', 'daz die vorgenant Anna ainen vogt nemen solt mit dez vorgenanten ir elichen mannes willen an dem ring, wen si wolt, vnd daz si der ze drin malen vsser dez gerihtes ring furen solt vnd si fragen, ob si ez willeklich vnd gern tat vnd tun wolt, ')\n",
      "('insert', '', 'dendorffer und mit meins lieben swager insy')\n",
      "('insert', '', 'Der geben ist ze Vlme an dem nehsten aftermontag vor tag ze liehtmesse, do man zalt von Cristes geburt driuz dar nach in dem ahtenden vnd viertzigosten jar vnd in dem riche')\n",
      "('insert', '', 'k')\n",
      "('insert', '', ' des obgenanten gotzhu')\n",
      "('insert', '', 'herbsthunrr und zway ')\n",
      "Random diffs for type 'equal':\n",
      "('equal', 'chen vergih vnd tun chunt alle den, di disen brief lesen horent, daz ich ', 'chen vergih vnd tun chunt alle den, di disen brief lesen horent, daz ich ')\n",
      "('equal', 'Z', 'Z')\n",
      "('equal', 'otem willen unser liben in got tumprobst Chunrats und techent Vlrichs und unsers capitels ze Salzburch haben geben ze leibgeding zu ir drier leib di veste ze Goling und dar zu zwelf pfunt geltes Salzburger pfenning ouz unserm Ha', 'otem willen unser liben in got tumprobst Chunrats und techent Vlrichs und unsers capitels ze Salzburch haben geben ze leibgeding zu ir drier leib di veste ze Goling und dar zu zwelf pfunt geltes Salzburger pfenning ouz unserm Ha')\n",
      "('equal', 'Ich Weygel von Teyau vergich offenleich vnd tun chund allen den di disen prief sehent horen oder lesen di nu lebent vnd hernach chumftig sind daz ich vnd all mein erben den halben czehent hof ze Teyau vnd all di zehent halb di von alter dar in gehornt di ich gechauft het wider Stephan den Rausch vnd di der vorgenant Rausch gechauft het wider gilign mit allen den rechten vnd nutzen vnd ich sev vnd mein vorgenant geber von sand Joerigen gotzhaus ze Hertzogenwurch gehabt haben alz di vrchund sagt die wier dar vber heten Nach rat meiner pesten vreund ze der zeit da ichz wol getun mocht Recht vnd redleich verchauft han dem erbern gaistlaichen Hern Probst Seyfriden vnd der Samnung gemainchleich sand lorign gotzhaus ze Hertzogenwurch vmb fierczig phund wienner phenning der ich ganz vnd gar gericht vnd gebert pin den egenanten halben zehenthof vnd all di zehent halb di dar zu gehornt mit alln nuczen vnd rechten vnd gewonhait di von alter dor auf gewesen sind wesuecht vnd vnbesucht wie si genant sind han ich vnd all mein erben dem obgenanten gotzhaus gegeben fur ein ledich gut vnuerchumbert an allen steten ze versetzen vnd zu verchaufen allen ieren frumen damit ze schaffen wi in daz aller pest fugt an all mein vnd meiner vreund hindrung vnd irsal. Ich vorgenanter weygel pin des obgenanten zehenthofz vnd der zehent di dar zu gehorent des obgenanten gotzhaus rechter scherm vnd geber fur alle ansprach. Wen ich aygens Insigels nicht enhan so han ich gepeten mein genedigen hern Hern Albrechten von Puechaim den obristen trugsetzen in Oestereich daz er in daz scherm vnd pestet, daz hat er getan durich meiner pet willen. Daz disev vorgeschriben sach Staet vnd vntzebrochen beleib dar vber gib ich dem ob genanten hern dem Probst vnd dem gotzhaus ze Hertzogenwurch disen prief versigelten mit des erbern Hern Hern Albers von Puechaim des obristen druchsetzen in Ostereich anhangundem insigel vnd mit Hern Eberhartz des Hauser insigel vnd mit Hern Andre des fuschz ze den zeiten purgraf ze Litschav vnd mit Hern Otten des Pochfuezz insigel ze den zeiten richter ze Teyau di irev insigel an disen prief gehangen haben zu einer barn ganczen gezeugnuz der vorgeschriben sach. Daz geschach nach christes gepurt drevtzehen hundert iar vnd darnach in dem ain vnd fumfzigistem iar an sand Wlrechs tag.', 'Ich Weygel von Teyau vergich offenleich vnd tun chund allen den di disen prief sehent horen oder lesen di nu lebent vnd hernach chumftig sind daz ich vnd all mein erben den halben czehent hof ze Teyau vnd all di zehent halb di von alter dar in gehornt di ich gechauft het wider Stephan den Rausch vnd di der vorgenant Rausch gechauft het wider gilign mit allen den rechten vnd nutzen vnd ich sev vnd mein vorgenant geber von sand Joerigen gotzhaus ze Hertzogenwurch gehabt haben alz di vrchund sagt die wier dar vber heten Nach rat meiner pesten vreund ze der zeit da ichz wol getun mocht Recht vnd redleich verchauft han dem erbern gaistlaichen Hern Probst Seyfriden vnd der Samnung gemainchleich sand lorign gotzhaus ze Hertzogenwurch vmb fierczig phund wienner phenning der ich ganz vnd gar gericht vnd gebert pin den egenanten halben zehenthof vnd all di zehent halb di dar zu gehornt mit alln nuczen vnd rechten vnd gewonhait di von alter dor auf gewesen sind wesuecht vnd vnbesucht wie si genant sind han ich vnd all mein erben dem obgenanten gotzhaus gegeben fur ein ledich gut vnuerchumbert an allen steten ze versetzen vnd zu verchaufen allen ieren frumen damit ze schaffen wi in daz aller pest fugt an all mein vnd meiner vreund hindrung vnd irsal. Ich vorgenanter weygel pin des obgenanten zehenthofz vnd der zehent di dar zu gehorent des obgenanten gotzhaus rechter scherm vnd geber fur alle ansprach. Wen ich aygens Insigels nicht enhan so han ich gepeten mein genedigen hern Hern Albrechten von Puechaim den obristen trugsetzen in Oestereich daz er in daz scherm vnd pestet, daz hat er getan durich meiner pet willen. Daz disev vorgeschriben sach Staet vnd vntzebrochen beleib dar vber gib ich dem ob genanten hern dem Probst vnd dem gotzhaus ze Hertzogenwurch disen prief versigelten mit des erbern Hern Hern Albers von Puechaim des obristen druchsetzen in Ostereich anhangundem insigel vnd mit Hern Eberhartz des Hauser insigel vnd mit Hern Andre des fuschz ze den zeiten purgraf ze Litschav vnd mit Hern Otten des Pochfuezz insigel ze den zeiten richter ze Teyau di irev insigel an disen prief gehangen haben zu einer barn ganczen gezeugnuz der vorgeschriben sach. Daz geschach nach christes gepurt drevtzehen hundert iar vnd darnach in dem ain vnd fumfzigistem iar an sand Wlrechs tag.')\n",
      "('equal', 'nd, Jacob von V', 'nd, Jacob von V')\n",
      "('equal', 'redlich vnd reht verkoffet vnd ze koffen geben habin Hansen dem Bader von Elgo vnd sinen erben das g', 'redlich vnd reht verkoffet vnd ze koffen geben habin Hansen dem Bader von Elgo vnd sinen erben das g')\n",
      "('equal', 'l ze Rom z', 'l ze Rom z')\n",
      "('equal', 'se ze Tobel aller aigenschaft aller kuntschaft aller besatzzung aller gewer l', 'se ze Tobel aller aigenschaft aller kuntschaft aller besatzzung aller gewer l')\n",
      "('equal', 'lichi wirtinne, Johans ir sun, Margareta vnd Anna ir tohtran veriehen ain gantz warhait aller der dinge, so von v', 'lichi wirtinne, Johans ir sun, Margareta vnd Anna ir tohtran veriehen ain gantz warhait aller der dinge, so von v')\n",
      "('equal', 'hkomen vnschadlich. Vnd ze offenem waren vrk', 'hkomen vnschadlich. Vnd ze offenem waren vrk')\n"
     ]
    }
   ],
   "source": [
    "n = 10\n",
    "for difference_type in differences_dict.keys():\n",
    "    all_replacements = []\n",
    "    for deltas in df[\"deltas\"]:\n",
    "        replacements = [diff for diff in deltas if diff[0] == difference_type]\n",
    "        all_replacements.extend(replacements)\n",
    "\n",
    "    if len(all_replacements) >= n:\n",
    "        random_replacements = random.sample(all_replacements, 10)\n",
    "    else:\n",
    "        random_replacements = all_replacements\n",
    "\n",
    "    print(f\"Random diffs for type '{difference_type}':\")\n",
    "    for replacement in random_replacements:\n",
    "        print(replacement)"
   ]
  }
 ],
 "metadata": {
  "kernelspec": {
   "display_name": ".venv",
   "language": "python",
   "name": "python3"
  },
  "language_info": {
   "codemirror_mode": {
    "name": "ipython",
    "version": 3
   },
   "file_extension": ".py",
   "mimetype": "text/x-python",
   "name": "python",
   "nbconvert_exporter": "python",
   "pygments_lexer": "ipython3",
   "version": "3.10.12"
  }
 },
 "nbformat": 4,
 "nbformat_minor": 2
}
